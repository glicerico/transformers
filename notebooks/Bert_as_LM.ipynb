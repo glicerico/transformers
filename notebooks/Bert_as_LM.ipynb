{
 "cells": [
  {
   "cell_type": "markdown",
   "metadata": {},
   "source": [
    "# Estimate sentence probability with BERT\n",
    "## From https://github.com/huggingface/transformers/issues/37, but updated to newest transformers version"
   ]
  },
  {
   "cell_type": "code",
   "execution_count": 1,
   "metadata": {
    "scrolled": true
   },
   "outputs": [],
   "source": [
    "import numpy as np\n",
    "import torch\n",
    "from transformers import BertTokenizer, BertForMaskedLM\n",
    "\n",
    "# Load pre-trained model (weights)\n",
    "with torch.no_grad():\n",
    "    model = BertForMaskedLM.from_pretrained('bert-large-uncased')\n",
    "    model.eval()\n",
    "    # Load pre-trained model tokenizer (vocabulary)\n",
    "    tokenizer = BertTokenizer.from_pretrained('bert-large-uncased')"
   ]
  },
  {
   "cell_type": "code",
   "execution_count": 2,
   "metadata": {},
   "outputs": [],
   "source": [
    "def print_top_predictions(probs, index, k=5):\n",
    "    probs = probs.detach().numpy()\n",
    "    top_indexes = np.argpartition(probs, -k)[-k:]\n",
    "    sorted_indexes = top_indexes[np.argsort(-probs[top_indexes])]\n",
    "    top_tokens = tokenizer.convert_ids_to_tokens(sorted_indexes)\n",
    "    print(f\"Ordered top predicted tokens: {top_tokens}\")\n",
    "    print(f\"Ordered top predicted values: {probs[sorted_indexes]}\")"
   ]
  },
  {
   "cell_type": "code",
   "execution_count": 3,
   "metadata": {},
   "outputs": [],
   "source": [
    "BOS_TOKEN = '[CLS]'\n",
    "EOS_TOKEN = '[SEP]'\n",
    "MASK_TOKEN = '[MASK]'\n",
    "\n",
    "def get_sentence_prob(sentence, verbose=False):\n",
    "    sm = torch.nn.Softmax(dim=0) # used to convert last hidden state to probs\n",
    "    \n",
    "    # Pre-process sentence, adding special tokens\n",
    "    tokenized_input = tokenizer.tokenize(sentence)\n",
    "    sent_len = len(tokenized_input)\n",
    "    if tokenized_input[0] != BOS_TOKEN:\n",
    "        tokenized_input.insert(0, BOS_TOKEN)\n",
    "    if tokenized_input[-1] != EOS_TOKEN:\n",
    "        tokenized_input.append(EOS_TOKEN)\n",
    "    ids_input = tokenizer.convert_tokens_to_ids(tokenized_input)\n",
    "    print(f\"Processing sentence: {tokenized_input}\")\n",
    "    #print(f\"Sentence ids: {ids_input}\")\n",
    "    \n",
    "    #sent_prob = 1\n",
    "    sum_lp = 0\n",
    "    # Mask non-special tokens and calculate their probabilities\n",
    "    for i in range(1,len(tokenized_input)-1): # Ignore first and last tokens\n",
    "        current_tokenized = tokenized_input[:]\n",
    "        current_tokenized[i] = MASK_TOKEN\n",
    "        if verbose: print(current_tokenized)\n",
    "        masked_input = torch.tensor([tokenizer.convert_tokens_to_ids(current_tokenized)])\n",
    "        outputs = model(masked_input)\n",
    "        predictions = outputs[0]\n",
    "        current_probs = sm(predictions[0, i]) # Softmax to get probabilities\n",
    "        current_prob = current_probs[ids_input[i]] # Prediction for masked word\n",
    "        #sent_prob *= current_prob\n",
    "        \n",
    "        sum_lp += np.log(current_prob.detach().numpy())\n",
    "        \n",
    "        print(f\"Word: {tokenized_input[i]} \\t Prob: {current_prob}\")\n",
    "        if verbose: print_top_predictions(current_probs, ids_input[i])\n",
    "\n",
    "    #print(f\"\\nSentence probability: {sent_prob.item()}\\n\")\n",
    "    print(f\"\\nNormalized sentence prob: log(P(sentence)) / sent_length: {sum_lp / sent_len}\\n\")\n",
    "    return sum_lp / sent_len"
   ]
  },
  {
   "cell_type": "code",
   "execution_count": 4,
   "metadata": {},
   "outputs": [
    {
     "name": "stdout",
     "output_type": "stream",
     "text": [
      "Processing sentence: ['[CLS]', 'he', 'was', 'born', 'in', 'berlin', '.', '[SEP]']\n",
      "Word: he \t Prob: 0.7967859506607056\n",
      "Word: was \t Prob: 0.9999992847442627\n",
      "Word: born \t Prob: 0.9977497458457947\n",
      "Word: in \t Prob: 0.9979470372200012\n",
      "Word: berlin \t Prob: 0.02355594001710415\n",
      "Word: . \t Prob: 0.9999347925186157\n",
      "\n",
      "Normalized sentence prob: log(P(sentence)) / sent_length: -0.6633200494943973\n",
      "\n",
      "Processing sentence: ['[CLS]', 'he', 'was', 'born', 'in', 'santiago', '.', '[SEP]']\n",
      "Word: he \t Prob: 0.7612152695655823\n",
      "Word: was \t Prob: 0.9999862909317017\n",
      "Word: born \t Prob: 0.9960402250289917\n",
      "Word: in \t Prob: 0.997549831867218\n",
      "Word: santiago \t Prob: 0.0008775214664638042\n",
      "Word: . \t Prob: 0.9998825788497925\n",
      "\n",
      "Normalized sentence prob: log(P(sentence)) / sent_length: -1.2196333849568266\n",
      "\n",
      "Processing sentence: ['[CLS]', 'he', 'was', 'born', 'in', 'france', '.', '[SEP]']\n",
      "Word: he \t Prob: 0.7930527329444885\n",
      "Word: was \t Prob: 0.9999958276748657\n",
      "Word: born \t Prob: 0.9916587471961975\n",
      "Word: in \t Prob: 0.9998917579650879\n",
      "Word: france \t Prob: 0.002677186392247677\n",
      "Word: . \t Prob: 0.9997918009757996\n",
      "\n",
      "Normalized sentence prob: log(P(sentence)) / sent_length: -1.0272585537861687\n",
      "\n",
      "Processing sentence: ['[CLS]', 'he', 'was', 'born', 'in', 'window', '.', '[SEP]']\n",
      "Word: he \t Prob: 0.6543523073196411\n",
      "Word: was \t Prob: 0.9999873638153076\n",
      "Word: born \t Prob: 8.784436067799106e-05\n",
      "Word: in \t Prob: 0.7220567464828491\n",
      "Word: window \t Prob: 1.4590033288186532e-06\n",
      "Word: . \t Prob: 0.9915589094161987\n",
      "\n",
      "Normalized sentence prob: log(P(sentence)) / sent_length: -3.922658653011846\n",
      "\n"
     ]
    },
    {
     "data": {
      "text/plain": [
       "-3.922658653011846"
      ]
     },
     "execution_count": 4,
     "metadata": {},
     "output_type": "execute_result"
    }
   ],
   "source": [
    "#get_sentence_prob(\"I fed my cat some of it and he damn near passed out\")\n",
    "get_sentence_prob(\"He was born in Berlin.\")\n",
    "get_sentence_prob(\"He was born in Santiago.\")\n",
    "get_sentence_prob(\"He was born in France.\")\n",
    "get_sentence_prob(\"He was born in window.\")\n"
   ]
  },
  {
   "cell_type": "code",
   "execution_count": 5,
   "metadata": {},
   "outputs": [
    {
     "name": "stdout",
     "output_type": "stream",
     "text": [
      "Processing sentence: ['[CLS]', 'i', 'fed', 'my', 'cat', 'some', 'of', 'it', 'and', 'he', 'damn', 'near', 'passed', 'out', '.', '[SEP]']\n",
      "Word: i \t Prob: 0.9958482980728149\n",
      "Word: fed \t Prob: 0.15173447132110596\n",
      "Word: my \t Prob: 0.09394065290689468\n",
      "Word: cat \t Prob: 0.00496681360527873\n",
      "Word: some \t Prob: 0.5760889053344727\n",
      "Word: of \t Prob: 0.9998531341552734\n",
      "Word: it \t Prob: 0.7705156207084656\n",
      "Word: and \t Prob: 0.8786880373954773\n",
      "Word: he \t Prob: 0.5077316761016846\n",
      "Word: damn \t Prob: 0.9221678972244263\n",
      "Word: near \t Prob: 0.9851245284080505\n",
      "Word: passed \t Prob: 0.8588521480560303\n",
      "Word: out \t Prob: 0.999413013458252\n",
      "Word: . \t Prob: 0.9991564750671387\n",
      "\n",
      "Normalized sentence prob: log(P(sentence)) / sent_length: -0.8163514484040206\n",
      "\n",
      "Processing sentence: ['[CLS]', 'i', 'fed', 'my', 'dog', 'some', 'of', 'it', 'and', 'he', 'damn', 'near', 'passed', 'out', '.', '[SEP]']\n",
      "Word: i \t Prob: 0.9969239830970764\n",
      "Word: fed \t Prob: 0.15674538910388947\n",
      "Word: my \t Prob: 0.13328789174556732\n",
      "Word: dog \t Prob: 0.042229048907756805\n",
      "Word: some \t Prob: 0.5007946491241455\n",
      "Word: of \t Prob: 0.9998370409011841\n",
      "Word: it \t Prob: 0.7548455595970154\n",
      "Word: and \t Prob: 0.8955031633377075\n",
      "Word: he \t Prob: 0.7187321186065674\n",
      "Word: damn \t Prob: 0.9579303860664368\n",
      "Word: near \t Prob: 0.9861307740211487\n",
      "Word: passed \t Prob: 0.9065552949905396\n",
      "Word: out \t Prob: 0.9993582367897034\n",
      "Word: . \t Prob: 0.9986190795898438\n",
      "\n",
      "Normalized sentence prob: log(P(sentence)) / sent_length: -0.6147698556108351\n",
      "\n",
      "Processing sentence: ['[CLS]', 'i', 'fed', 'my', 'window', 'some', 'of', 'it', 'and', 'he', 'damn', 'near', 'passed', 'out', '.', '[SEP]']\n",
      "Word: i \t Prob: 0.9672557711601257\n",
      "Word: fed \t Prob: 7.068945706123486e-06\n",
      "Word: my \t Prob: 0.02019047923386097\n",
      "Word: window \t Prob: 5.533096555154771e-06\n",
      "Word: some \t Prob: 0.0007260333513841033\n",
      "Word: of \t Prob: 0.998672366142273\n",
      "Word: it \t Prob: 0.6720837354660034\n",
      "Word: and \t Prob: 0.8601065278053284\n",
      "Word: he \t Prob: 0.14901724457740784\n",
      "Word: damn \t Prob: 0.9460393190383911\n",
      "Word: near \t Prob: 0.9897167086601257\n",
      "Word: passed \t Prob: 0.291490375995636\n",
      "Word: out \t Prob: 0.9990125894546509\n",
      "Word: . \t Prob: 0.999427080154419\n",
      "\n",
      "Normalized sentence prob: log(P(sentence)) / sent_length: -2.77725168446029\n",
      "\n",
      "Processing sentence: ['[CLS]', 'i', 'fed', 'my', 'the', 'some', 'of', 'it', 'and', 'he', 'damn', 'near', 'passed', 'out', '.', '[SEP]']\n",
      "Word: i \t Prob: 0.8631967306137085\n",
      "Word: fed \t Prob: 0.005908309016376734\n",
      "Word: my \t Prob: 2.193658247051644e-06\n",
      "Word: the \t Prob: 6.6887232605949976e-06\n",
      "Word: some \t Prob: 6.13591600995278e-06\n",
      "Word: of \t Prob: 0.9990670084953308\n",
      "Word: it \t Prob: 0.7371166348457336\n",
      "Word: and \t Prob: 0.8391276597976685\n",
      "Word: he \t Prob: 0.33432769775390625\n",
      "Word: damn \t Prob: 0.9509746432304382\n",
      "Word: near \t Prob: 0.9898704886436462\n",
      "Word: passed \t Prob: 0.9399873614311218\n",
      "Word: out \t Prob: 0.9996998310089111\n",
      "Word: . \t Prob: 0.998624324798584\n",
      "\n",
      "Normalized sentence prob: log(P(sentence)) / sent_length: -3.137562180068926\n",
      "\n"
     ]
    },
    {
     "data": {
      "text/plain": [
       "-3.137562180068926"
      ]
     },
     "execution_count": 5,
     "metadata": {},
     "output_type": "execute_result"
    }
   ],
   "source": [
    "get_sentence_prob(\"I fed my cat some of it and he damn near passed out.\")\n",
    "get_sentence_prob(\"I fed my dog some of it and he damn near passed out.\")\n",
    "get_sentence_prob(\"I fed my window some of it and he damn near passed out.\")\n",
    "get_sentence_prob(\"I fed my the some of it and he damn near passed out.\")"
   ]
  },
  {
   "cell_type": "code",
   "execution_count": 6,
   "metadata": {},
   "outputs": [],
   "source": [
    "# Load pre-trained model (weights)\n",
    "with torch.no_grad():\n",
    "    model = BertForMaskedLM.from_pretrained('bert-base-uncased')\n",
    "    model.eval()\n",
    "    # Load pre-trained model tokenizer (vocabulary)\n",
    "    tokenizer = BertTokenizer.from_pretrained('bert-base-uncased')"
   ]
  },
  {
   "cell_type": "code",
   "execution_count": 7,
   "metadata": {},
   "outputs": [
    {
     "name": "stdout",
     "output_type": "stream",
     "text": [
      "Processing sentence: ['[CLS]', 'he', 'was', 'born', 'in', 'berlin', '.', '[SEP]']\n",
      "Word: he \t Prob: 0.8305719494819641\n",
      "Word: was \t Prob: 0.9999191761016846\n",
      "Word: born \t Prob: 0.9969794750213623\n",
      "Word: in \t Prob: 0.994476854801178\n",
      "Word: berlin \t Prob: 0.031274765729904175\n",
      "Word: . \t Prob: 0.9961835741996765\n",
      "\n",
      "Normalized sentence prob: log(P(sentence)) / sent_length: -0.6105087432479195\n",
      "\n",
      "Processing sentence: ['[CLS]', 'he', 'was', 'born', 'in', 'santiago', '.', '[SEP]']\n",
      "Word: he \t Prob: 0.7335055470466614\n",
      "Word: was \t Prob: 0.9996452331542969\n",
      "Word: born \t Prob: 0.9062364101409912\n",
      "Word: in \t Prob: 0.9894782900810242\n",
      "Word: santiago \t Prob: 0.00146165257319808\n",
      "Word: . \t Prob: 0.9926425814628601\n",
      "\n",
      "Normalized sentence prob: log(P(sentence)) / sent_length: -1.159146633008883\n",
      "\n",
      "Processing sentence: ['[CLS]', 'he', 'was', 'born', 'in', 'france', '.', '[SEP]']\n",
      "Word: he \t Prob: 0.8246520161628723\n",
      "Word: was \t Prob: 0.999785840511322\n",
      "Word: born \t Prob: 0.9959775805473328\n",
      "Word: in \t Prob: 0.9995790123939514\n",
      "Word: france \t Prob: 0.0023573627695441246\n",
      "Word: . \t Prob: 0.99676114320755\n",
      "\n",
      "Normalized sentence prob: log(P(sentence)) / sent_length: -1.041819268417991\n",
      "\n",
      "Processing sentence: ['[CLS]', 'he', 'was', 'born', 'in', 'window', '.', '[SEP]']\n",
      "Word: he \t Prob: 0.6349582076072693\n",
      "Word: was \t Prob: 0.999396562576294\n",
      "Word: born \t Prob: 7.419164467137307e-05\n",
      "Word: in \t Prob: 0.8011596202850342\n",
      "Word: window \t Prob: 9.28068402572535e-07\n",
      "Word: . \t Prob: 0.9870637655258179\n",
      "\n",
      "Normalized sentence prob: log(P(sentence)) / sent_length: -4.01475577391102\n",
      "\n"
     ]
    },
    {
     "data": {
      "text/plain": [
       "-4.01475577391102"
      ]
     },
     "execution_count": 7,
     "metadata": {},
     "output_type": "execute_result"
    }
   ],
   "source": [
    "#get_sentence_prob(\"I fed my cat some of it and he damn near passed out\")\n",
    "get_sentence_prob(\"He was born in Berlin.\")\n",
    "get_sentence_prob(\"He was born in Santiago.\")\n",
    "get_sentence_prob(\"He was born in France.\")\n",
    "get_sentence_prob(\"He was born in window.\")"
   ]
  },
  {
   "cell_type": "code",
   "execution_count": 8,
   "metadata": {},
   "outputs": [
    {
     "name": "stdout",
     "output_type": "stream",
     "text": [
      "Processing sentence: ['[CLS]', 'i', 'fed', 'my', 'cat', 'some', 'of', 'it', 'and', 'he', 'damn', 'near', 'passed', 'out', '.', '[SEP]']\n",
      "Word: i \t Prob: 0.9571204781532288\n",
      "Word: fed \t Prob: 0.1349359005689621\n",
      "Word: my \t Prob: 0.0650763139128685\n",
      "Word: cat \t Prob: 0.002580614760518074\n",
      "Word: some \t Prob: 0.7807718515396118\n",
      "Word: of \t Prob: 0.9992412328720093\n",
      "Word: it \t Prob: 0.6963055729866028\n",
      "Word: and \t Prob: 0.8459337949752808\n",
      "Word: he \t Prob: 0.1988241821527481\n",
      "Word: damn \t Prob: 0.9891019463539124\n",
      "Word: near \t Prob: 0.9948875308036804\n",
      "Word: passed \t Prob: 0.778436541557312\n",
      "Word: out \t Prob: 0.9847735166549683\n",
      "Word: . \t Prob: 0.9980348944664001\n",
      "\n",
      "Normalized sentence prob: log(P(sentence)) / sent_length: -0.9582437386769536\n",
      "\n",
      "Processing sentence: ['[CLS]', 'i', 'fed', 'my', 'dog', 'some', 'of', 'it', 'and', 'he', 'damn', 'near', 'passed', 'out', '.', '[SEP]']\n",
      "Word: i \t Prob: 0.9549459218978882\n",
      "Word: fed \t Prob: 0.11256841570138931\n",
      "Word: my \t Prob: 0.10771261900663376\n",
      "Word: dog \t Prob: 0.010875093750655651\n",
      "Word: some \t Prob: 0.6957500576972961\n",
      "Word: of \t Prob: 0.9991164803504944\n",
      "Word: it \t Prob: 0.6130205988883972\n",
      "Word: and \t Prob: 0.8129279613494873\n",
      "Word: he \t Prob: 0.43315374851226807\n",
      "Word: damn \t Prob: 0.990297257900238\n",
      "Word: near \t Prob: 0.9945558309555054\n",
      "Word: passed \t Prob: 0.7419031858444214\n",
      "Word: out \t Prob: 0.9816535115242004\n",
      "Word: . \t Prob: 0.9981781244277954\n",
      "\n",
      "Normalized sentence prob: log(P(sentence)) / sent_length: -0.8007664599322847\n",
      "\n",
      "Processing sentence: ['[CLS]', 'i', 'fed', 'my', 'window', 'some', 'of', 'it', 'and', 'he', 'damn', 'near', 'passed', 'out', '.', '[SEP]']\n",
      "Word: i \t Prob: 0.6795225143432617\n",
      "Word: fed \t Prob: 7.894248483353294e-06\n",
      "Word: my \t Prob: 0.009072510525584221\n",
      "Word: window \t Prob: 5.100595444673672e-06\n",
      "Word: some \t Prob: 0.002148964675143361\n",
      "Word: of \t Prob: 0.9439271688461304\n",
      "Word: it \t Prob: 0.6454371809959412\n",
      "Word: and \t Prob: 0.7339258790016174\n",
      "Word: he \t Prob: 0.1532624065876007\n",
      "Word: damn \t Prob: 0.9927641749382019\n",
      "Word: near \t Prob: 0.9904175400733948\n",
      "Word: passed \t Prob: 0.2609877586364746\n",
      "Word: out \t Prob: 0.9811474084854126\n",
      "Word: . \t Prob: 0.9969933032989502\n",
      "\n",
      "Normalized sentence prob: log(P(sentence)) / sent_length: -2.8021336370812997\n",
      "\n",
      "Processing sentence: ['[CLS]', 'i', 'fed', 'my', 'the', 'some', 'of', 'it', 'and', 'he', 'damn', 'near', 'passed', 'out', '.', '[SEP]']\n",
      "Word: i \t Prob: 0.47843486070632935\n",
      "Word: fed \t Prob: 0.01429497916251421\n",
      "Word: my \t Prob: 3.4784730814862996e-05\n",
      "Word: the \t Prob: 7.202870619948953e-06\n",
      "Word: some \t Prob: 3.89739143429324e-05\n",
      "Word: of \t Prob: 0.9408084154129028\n",
      "Word: it \t Prob: 0.4606015086174011\n",
      "Word: and \t Prob: 0.7653403878211975\n",
      "Word: he \t Prob: 0.16082075238227844\n",
      "Word: damn \t Prob: 0.9815145134925842\n",
      "Word: near \t Prob: 0.9932456612586975\n",
      "Word: passed \t Prob: 0.6769177913665771\n",
      "Word: out \t Prob: 0.9737738370895386\n",
      "Word: . \t Prob: 0.9969468712806702\n",
      "\n",
      "Normalized sentence prob: log(P(sentence)) / sent_length: -2.901533915943998\n",
      "\n"
     ]
    },
    {
     "data": {
      "text/plain": [
       "-2.901533915943998"
      ]
     },
     "execution_count": 8,
     "metadata": {},
     "output_type": "execute_result"
    }
   ],
   "source": [
    "get_sentence_prob(\"I fed my cat some of it and he damn near passed out.\")\n",
    "get_sentence_prob(\"I fed my dog some of it and he damn near passed out.\")\n",
    "get_sentence_prob(\"I fed my window some of it and he damn near passed out.\")\n",
    "get_sentence_prob(\"I fed my the some of it and he damn near passed out.\")"
   ]
  },
  {
   "cell_type": "code",
   "execution_count": null,
   "metadata": {},
   "outputs": [],
   "source": []
  }
 ],
 "metadata": {
  "kernelspec": {
   "display_name": "Python [conda env:transformers]",
   "language": "python",
   "name": "conda-env-transformers-py"
  },
  "language_info": {
   "codemirror_mode": {
    "name": "ipython",
    "version": 3
   },
   "file_extension": ".py",
   "mimetype": "text/x-python",
   "name": "python",
   "nbconvert_exporter": "python",
   "pygments_lexer": "ipython3",
   "version": "3.7.6"
  }
 },
 "nbformat": 4,
 "nbformat_minor": 2
}
